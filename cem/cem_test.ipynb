{
 "cells": [
  {
   "cell_type": "code",
   "execution_count": 6,
   "metadata": {},
   "outputs": [
    {
     "name": "stdout",
     "output_type": "stream",
     "text": [
      "('true min: ', -2.18509868175191)\n",
      "[-2.60651743 -2.60651743 -2.60651743 -2.60651743 -2.60651743 -2.60651743\n",
      " -2.60651743 -2.60651743 -2.60651743 -2.60651743]\n"
     ]
    }
   ],
   "source": [
    "# cem test\n",
    "# cem directly fits the f-value\n",
    "import numpy as np\n",
    "N=100 # number of samples\n",
    "ratio=0.1 # ratio of selection\n",
    "num_itr=50\n",
    "samples = np.random.normal(0,1,N)  # f-value\n",
    "print('true min: ', np.min(samples))\n",
    "for i in range(num_itr):\n",
    "    # sample and select top 10% (max [-a:]or min [:a])\n",
    "    selected_samples = samples[np.array(samples).argsort()[:int(N*ratio)]]\n",
    "    m=np.mean(selected_samples)\n",
    "    std=np.std(selected_samples)\n",
    "    # fit the gaussian\n",
    "    samples=np.random.normal(m, std, N)\n",
    "print(selected_samples)"
   ]
  },
  {
   "cell_type": "code",
   "execution_count": 10,
   "metadata": {},
   "outputs": [
    {
     "name": "stdout",
     "output_type": "stream",
     "text": [
      "('true min: ', -168.90270628790233)\n",
      "[-381.05604927 -381.05604927 -381.05604927 -381.05604927 -381.05604927\n",
      " -381.05604927 -381.05604927 -381.05604927 -381.05604927 -381.05604927]\n"
     ]
    }
   ],
   "source": [
    "# cem test\n",
    "# cem fits the x of f(x)\n",
    "import numpy as np\n",
    "N=100\n",
    "ratio=0.1\n",
    "num_itr=50\n",
    "f=lambda x: 5*x**5+3*x**2  # function of f(x)\n",
    "samples = np.random.normal(0,1,N) # x-value of f(x)\n",
    "print('true min: ', np.min(f(samples)))\n",
    "for i in range(num_itr):\n",
    "    # sample and select top 10% (max [-a:]or min [:a])\n",
    "    selected_samples = samples[np.array(f(samples)).argsort()[:int(N*ratio)]]\n",
    "    m=np.mean(selected_samples)\n",
    "    std=np.std(selected_samples)\n",
    "    # fit the gaussian\n",
    "    samples=np.random.normal(m, std, N)\n",
    "print(f(selected_samples))"
   ]
  },
  {
   "cell_type": "code",
   "execution_count": null,
   "metadata": {},
   "outputs": [],
   "source": []
  },
  {
   "cell_type": "code",
   "execution_count": null,
   "metadata": {},
   "outputs": [],
   "source": []
  }
 ],
 "metadata": {
  "kernelspec": {
   "display_name": "Python 3",
   "language": "python",
   "name": "python3"
  },
  "language_info": {
   "codemirror_mode": {
    "name": "ipython",
    "version": 2
   },
   "file_extension": ".py",
   "mimetype": "text/x-python",
   "name": "python",
   "nbconvert_exporter": "python",
   "pygments_lexer": "ipython2",
   "version": "2.7.15"
  }
 },
 "nbformat": 4,
 "nbformat_minor": 2
}
