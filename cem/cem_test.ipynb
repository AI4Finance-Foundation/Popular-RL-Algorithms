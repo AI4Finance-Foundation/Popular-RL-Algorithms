{
 "cells": [
  {
   "cell_type": "code",
   "execution_count": 21,
   "metadata": {},
   "outputs": [
    {
     "name": "stdout",
     "output_type": "stream",
     "text": [
      "('true min: ', -2.3429674646746577)\n",
      "[-2.65175791 -2.65175791 -2.65175791 -2.65175791 -2.65175791 -2.65175791\n",
      " -2.65175791 -2.65175791 -2.65175791 -2.65175791]\n"
     ]
    }
   ],
   "source": [
    "# cem test 1\n",
    "# cem directly fits the f-value, in this approach, the f has to be the direct\n",
    "# values fitted by the cem, it cannot depend on other parameters. But it works!\n",
    "import numpy as np\n",
    "N=100 # number of samples\n",
    "ratio=0.1 # ratio of selection\n",
    "num_itr=50\n",
    "samples = np.random.normal(0,1,N)  # f-value\n",
    "print('true min: ', np.min(samples))\n",
    "for i in range(num_itr):\n",
    "    # sample and select top 10% (max [-a:]or min [:a])\n",
    "    selected_samples = samples[np.array(samples).argsort()[:int(N*ratio)]]\n",
    "    m=np.mean(selected_samples)\n",
    "    std=np.std(selected_samples)\n",
    "    # fit the gaussian\n",
    "    samples=np.random.normal(m, std, N)\n",
    "print(selected_samples)"
   ]
  },
  {
   "cell_type": "code",
   "execution_count": 47,
   "metadata": {},
   "outputs": [
    {
     "name": "stdout",
     "output_type": "stream",
     "text": [
      "('true min: ', 5.0394814977442186e-05)\n",
      "[3.17752007e-114 2.74391646e-113 1.16652081e-112 1.32414299e-112\n",
      " 2.69210621e-112 3.14121930e-112 6.65127246e-112 8.46741389e-112\n",
      " 8.64826179e-112 2.99581770e-111]\n"
     ]
    },
    {
     "data": {
      "image/png": "[encoded data removed]",
      "text/plain": [
       "<Figure size 432x288 with 1 Axes>"
      ]
     },
     "metadata": {
      "needs_background": "light"
     },
     "output_type": "display_data"
    }
   ],
   "source": [
    "# cem test 2\n",
    "# cem fits the x of f(x), in this approach, the x can be parameters of \n",
    "# the function f, therefore f can be dependent on other variables z like f(x,z). It works \n",
    "# as long as there are minimum of the function f.\n",
    "import numpy as np\n",
    "import matplotlib.pyplot as plt\n",
    "N=100\n",
    "ratio=0.1\n",
    "num_itr=50\n",
    "\n",
    "f=lambda x: 3*x**2+x**4  # function of f(x)\n",
    "samples = np.random.normal(0,1,N) # x-value of f(x)\n",
    "print('true min: ', np.min(f(samples)))\n",
    "for i in range(num_itr):\n",
    "    # sample and select top 10% (max [-a:]or min [:a])\n",
    "    selected_samples = samples[np.array(f(samples)).argsort()[:int(N*ratio)]]\n",
    "    m=np.mean(selected_samples)\n",
    "    std=np.std(selected_samples)  # std decrease fastly\n",
    "#     print(std)\n",
    "    # fit the gaussian\n",
    "    samples=np.random.normal(m, std, N)\n",
    "print(f(selected_samples))\n",
    "\n",
    "'''display the function'''\n",
    "x=np.linspace(-10,10,N)\n",
    "y=f(x)\n",
    "plt.plot(x,y)\n",
    "plt.show()\n"
   ]
  },
  {
   "cell_type": "code",
   "execution_count": null,
   "metadata": {},
   "outputs": [],
   "source": []
  },
  {
   "cell_type": "code",
   "execution_count": null,
   "metadata": {},
   "outputs": [],
   "source": []
  }
 ],
 "metadata": {
  "kernelspec": {
   "display_name": "Python 3",
   "language": "python",
   "name": "python3"
  },
  "language_info": {
   "codemirror_mode": {
    "name": "ipython",
    "version": 2
   },
   "file_extension": ".py",
   "mimetype": "text/x-python",
   "name": "python",
   "nbconvert_exporter": "python",
   "pygments_lexer": "ipython2",
   "version": "2.7.15"
  }
 },
 "nbformat": 4,
 "nbformat_minor": 2
}
